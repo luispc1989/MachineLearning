{
  "nbformat": 4,
  "nbformat_minor": 0,
  "metadata": {
    "colab": {
      "provenance": [],
      "toc_visible": true,
      "machine_shape": "hm",
      "gpuType": "T4",
      "include_colab_link": true
    },
    "kernelspec": {
      "name": "python3",
      "display_name": "Python 3"
    },
    "language_info": {
      "name": "python"
    },
    "accelerator": "GPU"
  },
  "cells": [
    {
      "cell_type": "markdown",
      "metadata": {
        "id": "view-in-github",
        "colab_type": "text"
      },
      "source": [
        "<a href=\"https://colab.research.google.com/github/luispc1989/MachineLearning/blob/main/notebooks/T7_torch_NN_pipeline.ipynb\" target=\"_parent\"><img src=\"https://colab.research.google.com/assets/colab-badge.svg\" alt=\"Open In Colab\"/></a>"
      ]
    },
    {
      "cell_type": "markdown",
      "source": [
        "**Pipeline for deep learning with PyTorch**"
      ],
      "metadata": {
        "id": "brWO6qD2tGcz"
      }
    },
    {
      "cell_type": "markdown",
      "source": [
        "## Major steps from data to deployment"
      ],
      "metadata": {
        "id": "zWBPqUp3sp88"
      }
    },
    {
      "cell_type": "markdown",
      "source": [
        "| Step                | Key Actions                                                                | Main PyTorch Classes/Methods                  |\n",
        "|---------------------|----------------------------------------------------------------------------|-----------------------------------------------|\n",
        "| Data Preparation    | Load, transform, batch, and split data                                     | `torch.utils.data.Dataset`, `DataLoader`, `torchvision.transforms`  |\n",
        "| Model Development   | Define architecture, choose loss/optimizer, set hyperparameters            | `torch.nn.Module`, `torch.nn.Parameter`, `torch.nn.functional`, `torch.optim` |\n",
        "| Model Training      | Forward pass, loss computation, backward pass, parameter update, epochs    | `forward()`, `loss.backward()`, `optimizer.step()`, `optimizer.zero_grad()` , `model.train()` |\n",
        "| Validation          | Evaluate on validation set, compute metrics, tune hyperparameters          | `model.eval()`, `torch.no_grad()`, metric functions (e.g., `torchmetrics`) |\n",
        "| Testing/Deployment  | Final evaluation on test set, save and deploy model                        | `torch.save()`, `torch.load()`, `model.eval()`, `torch.jit` |"
      ],
      "metadata": {
        "id": "qvy0Exkos1kJ"
      }
    },
    {
      "cell_type": "markdown",
      "source": [
        "## Typical training loop."
      ],
      "metadata": {
        "id": "mwQHqRK_s5xK"
      }
    },
    {
      "cell_type": "markdown",
      "source": [
        "Recall that the whole set of examples is visited during one epoch. Moreover, the *dataloader* groups examples in batches, and defines some other functionalities like shuffling the examples each time the iterator is created with `for inputs, targets in dataloader` in the example below.\n",
        "\n",
        "For standard neural network training in PyTorch, inputs and targets should be tensors. This can be dealt with in the *data preparation* step, using `transforms` when creating the custom `Dataset` class for the problem at hand (see https://github.com/isa-ulisboa/greends-pml/blob/main/notebooks/T6_pytorch_dataset_dataloader.ipynb).\n",
        "\n",
        "As discussed in https://github.com/isa-ulisboa/greends-pml/blob/main/docs/T1_basic_concepts.md for a simple linear regression problem, PyTorch uses **backpropagation** as the strategy to updates the model weights for loss minimization. The exact same idea can be generalized to multilayer neural networks and deep-learning.\n",
        "\n",
        "The typical training loop in PyTorch is described in the code below.\n",
        "1. The forward pass is done with `model(inputs)` that applies the model to the input and computes the output. This is a probability distribution over the possible labels.\n",
        "2. The backward pass is done with `optimizer.step()` using the gradient computed with `loss.backward()`. The loss, as always, depends on the actual output `target` and the predicted output `outputs`. The line of code `optimizer.zero_grad()` prevents the gradients to be summed up along the process. For  backpropagation to work, the model must be in training mode, which it is set by default or by setting `model.train()`.\n",
        "\n",
        "  ```\n",
        "  for epoch in range(num_epochs):\n",
        "      for inputs, targets in dataloader:\n",
        "          optimizer.zero_grad()\n",
        "          outputs = model(inputs)\n",
        "          loss = criterion(outputs, targets)\n",
        "          loss.backward()\n",
        "          optimizer.step()\n",
        "  ```"
      ],
      "metadata": {
        "id": "fIH-oFMrslAr"
      }
    },
    {
      "cell_type": "markdown",
      "source": [
        "## Example for data preparation and model training: the MNIST data set"
      ],
      "metadata": {
        "id": "mS9LoMjytWKa"
      }
    },
    {
      "cell_type": "markdown",
      "source": [
        "### Step 1: Data preparation"
      ],
      "metadata": {
        "id": "FO176GNHrKrc"
      }
    },
    {
      "cell_type": "code",
      "source": [
        "!pip install torchvision\n",
        "\n",
        "import torch\n",
        "import torch.nn as nn\n",
        "import torch.optim as optim\n",
        "from torchvision import datasets, transforms\n",
        "from torch.utils.data import DataLoader\n",
        "import matplotlib.pyplot as plt\n",
        "import time"
      ],
      "metadata": {
        "collapsed": true,
        "id": "i3Hwef1Jzdi7",
        "colab": {
          "base_uri": "https://localhost:8080/"
        },
        "outputId": "b9d5e13e-4e15-495a-9f73-98d9ff230089"
      },
      "execution_count": 15,
      "outputs": [
        {
          "output_type": "stream",
          "name": "stdout",
          "text": [
            "Requirement already satisfied: torchvision in /usr/local/lib/python3.11/dist-packages (0.21.0+cu124)\n",
            "Requirement already satisfied: numpy in /usr/local/lib/python3.11/dist-packages (from torchvision) (2.0.2)\n",
            "Requirement already satisfied: torch==2.6.0 in /usr/local/lib/python3.11/dist-packages (from torchvision) (2.6.0+cu124)\n",
            "Requirement already satisfied: pillow!=8.3.*,>=5.3.0 in /usr/local/lib/python3.11/dist-packages (from torchvision) (11.2.1)\n",
            "Requirement already satisfied: filelock in /usr/local/lib/python3.11/dist-packages (from torch==2.6.0->torchvision) (3.18.0)\n",
            "Requirement already satisfied: typing-extensions>=4.10.0 in /usr/local/lib/python3.11/dist-packages (from torch==2.6.0->torchvision) (4.13.2)\n",
            "Requirement already satisfied: networkx in /usr/local/lib/python3.11/dist-packages (from torch==2.6.0->torchvision) (3.4.2)\n",
            "Requirement already satisfied: jinja2 in /usr/local/lib/python3.11/dist-packages (from torch==2.6.0->torchvision) (3.1.6)\n",
            "Requirement already satisfied: fsspec in /usr/local/lib/python3.11/dist-packages (from torch==2.6.0->torchvision) (2025.3.2)\n",
            "Requirement already satisfied: nvidia-cuda-nvrtc-cu12==12.4.127 in /usr/local/lib/python3.11/dist-packages (from torch==2.6.0->torchvision) (12.4.127)\n",
            "Requirement already satisfied: nvidia-cuda-runtime-cu12==12.4.127 in /usr/local/lib/python3.11/dist-packages (from torch==2.6.0->torchvision) (12.4.127)\n",
            "Requirement already satisfied: nvidia-cuda-cupti-cu12==12.4.127 in /usr/local/lib/python3.11/dist-packages (from torch==2.6.0->torchvision) (12.4.127)\n",
            "Requirement already satisfied: nvidia-cudnn-cu12==9.1.0.70 in /usr/local/lib/python3.11/dist-packages (from torch==2.6.0->torchvision) (9.1.0.70)\n",
            "Requirement already satisfied: nvidia-cublas-cu12==12.4.5.8 in /usr/local/lib/python3.11/dist-packages (from torch==2.6.0->torchvision) (12.4.5.8)\n",
            "Requirement already satisfied: nvidia-cufft-cu12==11.2.1.3 in /usr/local/lib/python3.11/dist-packages (from torch==2.6.0->torchvision) (11.2.1.3)\n",
            "Requirement already satisfied: nvidia-curand-cu12==10.3.5.147 in /usr/local/lib/python3.11/dist-packages (from torch==2.6.0->torchvision) (10.3.5.147)\n",
            "Requirement already satisfied: nvidia-cusolver-cu12==11.6.1.9 in /usr/local/lib/python3.11/dist-packages (from torch==2.6.0->torchvision) (11.6.1.9)\n",
            "Requirement already satisfied: nvidia-cusparse-cu12==12.3.1.170 in /usr/local/lib/python3.11/dist-packages (from torch==2.6.0->torchvision) (12.3.1.170)\n",
            "Requirement already satisfied: nvidia-cusparselt-cu12==0.6.2 in /usr/local/lib/python3.11/dist-packages (from torch==2.6.0->torchvision) (0.6.2)\n",
            "Requirement already satisfied: nvidia-nccl-cu12==2.21.5 in /usr/local/lib/python3.11/dist-packages (from torch==2.6.0->torchvision) (2.21.5)\n",
            "Requirement already satisfied: nvidia-nvtx-cu12==12.4.127 in /usr/local/lib/python3.11/dist-packages (from torch==2.6.0->torchvision) (12.4.127)\n",
            "Requirement already satisfied: nvidia-nvjitlink-cu12==12.4.127 in /usr/local/lib/python3.11/dist-packages (from torch==2.6.0->torchvision) (12.4.127)\n",
            "Requirement already satisfied: triton==3.2.0 in /usr/local/lib/python3.11/dist-packages (from torch==2.6.0->torchvision) (3.2.0)\n",
            "Requirement already satisfied: sympy==1.13.1 in /usr/local/lib/python3.11/dist-packages (from torch==2.6.0->torchvision) (1.13.1)\n",
            "Requirement already satisfied: mpmath<1.4,>=1.1.0 in /usr/local/lib/python3.11/dist-packages (from sympy==1.13.1->torch==2.6.0->torchvision) (1.3.0)\n",
            "Requirement already satisfied: MarkupSafe>=2.0 in /usr/local/lib/python3.11/dist-packages (from jinja2->torch==2.6.0->torchvision) (3.0.2)\n"
          ]
        }
      ]
    },
    {
      "cell_type": "code",
      "source": [
        "# Define a transformation to flatten the 8x8 images\n",
        "transform = transforms.Compose([\n",
        "    transforms.Resize((8, 8)),         # Resize the PIL Image to 8x8 first (MNIST images are originally 28x28)\n",
        "    transforms.ToTensor(),             # Then convert to tensor\n",
        "    transforms.Lambda(lambda x: x.view(-1))  # Finally, flatten the tensor\n",
        "])\n",
        "\n",
        "# Load the MNIST dataset\n",
        "train_dataset = datasets.MNIST(root='./data', train=True, download=True, transform=transform)\n",
        "test_dataset = datasets.MNIST(root='./data', train=False, download=True, transform=transform)\n",
        "\n",
        "# Create DataLoaders\n",
        "batch_size = 64\n",
        "train_loader = DataLoader(train_dataset, batch_size=batch_size, shuffle=True)\n",
        "test_loader = DataLoader(test_dataset, batch_size=batch_size, shuffle=False)"
      ],
      "metadata": {
        "collapsed": true,
        "id": "Xd5AJl9TrYTB"
      },
      "execution_count": 16,
      "outputs": []
    },
    {
      "cell_type": "markdown",
      "source": [
        "**Question**. Dataloaders `train_loader` and `test_loader` are iterators which allow to access examples and labels.\n",
        "- What is the type of objects yielded by the train and test dataloaders?\n",
        "- What is the *shape* of `images` returned by `for images, labels in train_loader`? How do you interpret that shape?\n",
        "- Why dataloaders for train and test differ with respect to the option `shuffle`?"
      ],
      "metadata": {
        "id": "a3CSKLq7rfml"
      }
    },
    {
      "cell_type": "markdown",
      "source": [
        "### Answers to the Questions\n",
        "\n",
        "1. **What is the type of objects yielded by the train and test dataloaders?**\n",
        "\n",
        "   The `train_loader` and `test_loader` yield batches of input data and labels as `torch.Tensor` objects. These tensors are suitable for direct use in PyTorch models and training loops.\n",
        "\n",
        "2. **What is the shape of `images` returned by `for images, labels in train_loader`? How do you interpret that shape?**\n",
        "\n",
        "   The shape of `images` is `[64, 64]`, meaning each batch contains 64 images, and each image has been flattened into a vector of 64 values (corresponding to an 8x8 grayscale image).\n",
        "\n",
        "3. **Why do dataloaders for training and testing differ in the `shuffle` option?**\n",
        "\n",
        "   - **Training:** `shuffle=True` randomizes the order of the samples at each epoch, which helps the model to generalize better and reduces the risk of learning spurious patterns.\n",
        "   - **Testing:** `shuffle=False` keeps the order fixed to ensure reproducibility and consistent evaluation of model performance.\n"
      ],
      "metadata": {
        "id": "oRYsF1J7C7wO"
      }
    },
    {
      "cell_type": "markdown",
      "source": [
        "## Exploring the Dataloader in PyTorch\n"
      ],
      "metadata": {
        "id": "dV9bRa1f5zl_"
      }
    },
    {
      "cell_type": "code",
      "source": [
        "# Inspection of the type and shape of the objects from the DataLoader\n",
        "data_iter = iter(train_loader)\n",
        "images, labels = next(data_iter)\n",
        "\n",
        "print(f\"Type of 'images': {type(images)}\")\n",
        "print(f\"Shape of 'images': {images.shape}\")\n",
        "print(f\"Type of 'labels': {type(labels)}\")\n",
        "print(f\"Shape of 'labels': {labels.shape}\")\n"
      ],
      "metadata": {
        "colab": {
          "base_uri": "https://localhost:8080/"
        },
        "id": "TGMN_wsp6jKn",
        "outputId": "8d5d87a5-718b-40cf-b6a9-144b0b288a57"
      },
      "execution_count": 17,
      "outputs": [
        {
          "output_type": "stream",
          "name": "stdout",
          "text": [
            "Type of 'images': <class 'torch.Tensor'>\n",
            "Shape of 'images': torch.Size([64, 64])\n",
            "Type of 'labels': <class 'torch.Tensor'>\n",
            "Shape of 'labels': torch.Size([64])\n"
          ]
        }
      ]
    },
    {
      "cell_type": "markdown",
      "source": [
        "#### Visualize some examples and labels"
      ],
      "metadata": {
        "id": "h_HCmOqQ3Jp0"
      }
    },
    {
      "cell_type": "markdown",
      "source": [
        "Since the `transform` that was applied above returns flattened tensors, one needs to unflatten them to be able to create an image that can be plotted."
      ],
      "metadata": {
        "id": "GwidFLlG4Hdc"
      }
    },
    {
      "cell_type": "code",
      "source": [
        "# Assuming each image is a 1D tensor of length 64 (8*8)\n",
        "images, labels = zip(*[train_dataset[i] for i in range(12)])\n",
        "\n",
        "fig, axes = plt.subplots(3, 4, figsize=(9, 12))\n",
        "for i, ax in enumerate(axes.flat):\n",
        "    img = images[i].reshape(8, 8)  # Unflatten to 2D\n",
        "    ax.imshow(img, cmap='gray')\n",
        "    ax.set_title(str(labels[i]), fontsize=12)\n",
        "    ax.axis('off')\n",
        "\n",
        "plt.tight_layout()\n",
        "plt.show()"
      ],
      "metadata": {
        "id": "j4vJWgbk4rqa",
        "outputId": "62120a6d-20fe-4979-803d-01522ad6c1a1",
        "colab": {
          "base_uri": "https://localhost:8080/",
          "height": 990
        }
      },
      "execution_count": 18,
      "outputs": [
        {
          "output_type": "display_data",
          "data": {
            "text/plain": [
              "<Figure size 900x1200 with 12 Axes>"
            ],
            "image/png": "[encoded data removed]"
          },
          "metadata": {}
        }
      ]
    },
    {
      "cell_type": "markdown",
      "source": [
        "### Step 2: model development"
      ],
      "metadata": {
        "id": "_vO5PdL9w0EQ"
      }
    },
    {
      "cell_type": "code",
      "source": [
        "# Model Development: the model is a multilayer perceptron with one hidden layer\n",
        "class SimpleNN(nn.Module):\n",
        "    def __init__(self, input_size, hidden_size, num_classes):\n",
        "        super(SimpleNN, self).__init__()\n",
        "        self.fc1 = nn.Linear(input_size, hidden_size)\n",
        "        self.relu = nn.ReLU()\n",
        "        self.fc2 = nn.Linear(hidden_size, num_classes)\n",
        "\n",
        "    def forward(self, x):\n",
        "        out = self.fc1(x)\n",
        "        out = self.relu(out)\n",
        "        out = self.fc2(out)\n",
        "        return out\n",
        "\n",
        "# Since we are using 8x8 MNIST and flatenning the input, the input size is 8 * 8 = 64\n",
        "input_size = 8 * 8\n",
        "hidden_size = 128\n",
        "num_classes = 10 # 0-9 digits\n",
        "\n",
        "model = SimpleNN(input_size, hidden_size, num_classes)"
      ],
      "metadata": {
        "id": "Onqhot-Fw-mX"
      },
      "execution_count": 19,
      "outputs": []
    },
    {
      "cell_type": "markdown",
      "source": [
        "**Question**:\n",
        "- The model architecture depends on the input data shape. The input images of MNIST are originally of size $28 \\times 28$ but they have been resized to $8 \\times 8$ pixels. Which changes do you need to do in the script to use size $16 \\times 16$? And if you just want to use the original $28 \\times 28$ size?\n",
        "- Which change you need to do in the `SimpleNN` class if you want your model to have two hidden layers?\n",
        "- What is a `ReLU` activation function?\n",
        "- Why are non linear activation functions like `ReLU` necessary for deep learning?"
      ],
      "metadata": {
        "id": "mnMeUXCF3dy3"
      }
    },
    {
      "cell_type": "markdown",
      "source": [
        "### Answers to the Questions\n",
        "\n",
        "1. **The model architecture depends on the input data shape. The input images of MNIST are originally of size 28×28 but they have been resized to 8×8 pixels. Which changes do you need to do in the script to use size 16×16? And if you just want to use the original 28×28 size?**  \n",
        "The model’s input layer must match the number of pixels in each image after flattening.  \n",
        "Currently, for 8×8 images:  \n",
        "```python\n",
        "input_size = 8 * 8  # 64\n",
        "```  \n",
        "To use 16×16 images, update the transform and the input size:  \n",
        "```python\n",
        "transform = transforms.Compose([\n",
        "    transforms.Resize((16, 16)),\n",
        "    transforms.ToTensor(),\n",
        "    transforms.Lambda(lambda x: x.view(-1))\n",
        "])\n",
        "input_size = 16 * 16  # 256\n",
        "```  \n",
        "To use the original 28×28 MNIST images, flatten without resizing:  \n",
        "```python\n",
        "transform = transforms.Compose([\n",
        "    transforms.ToTensor(),\n",
        "    transforms.Lambda(lambda x: x.view(-1))\n",
        "])\n",
        "input_size = 28 * 28  # 784\n",
        "```\n",
        "\n",
        "2. **Which change do you need to do in the `SimpleNN` class if you want your model to have two hidden layers?**  \n",
        "To add a second hidden layer, include an extra linear layer and activation in the class definition and update the `forward` method:  \n",
        "```python\n",
        "class SimpleNN2Hidden(nn.Module):\n",
        "    def __init__(self, input_size, hidden_size1, hidden_size2, num_classes):\n",
        "        super(SimpleNN2Hidden, self).__init__()\n",
        "        self.fc1 = nn.Linear(input_size, hidden_size1)\n",
        "        self.relu1 = nn.ReLU()\n",
        "        self.fc2 = nn.Linear(hidden_size1, hidden_size2)\n",
        "        self.relu2 = nn.ReLU()\n",
        "        self.fc3 = nn.Linear(hidden_size2, num_classes)\n",
        "\n",
        "    def forward(self, x):\n",
        "        x = self.fc1(x)\n",
        "        x = self.relu1(x)\n",
        "        x = self.fc2(x)\n",
        "        x = self.relu2(x)\n",
        "        x = self.fc3(x)\n",
        "        return x\n",
        "```  \n",
        "Instantiate the model like this:  \n",
        "```python\n",
        "model = SimpleNN2Hidden(input_size=64, hidden_size1=128, hidden_size2=64, num_classes=10)\n",
        "```\n",
        "\n",
        "3. **What is a ReLU activation function?**  \n",
        "ReLU (Rectified Linear Unit) is a simple non-linear activation function defined as:  \n",
        "```python\n",
        "ReLU(x) = max(0, x)\n",
        "```  \n",
        "It outputs 0 for negative values and the input itself for positive values. In PyTorch:  \n",
        "```python\n",
        "self.relu = nn.ReLU()\n",
        "x = self.relu(x)\n",
        "```\n",
        "\n",
        "4. **Why are non-linear activation functions like ReLU necessary for deep learning?**  \n",
        "Without non-linear activation functions, stacking linear layers results in a model that is still just a linear transformation. Non-linear functions like ReLU enable the network to learn complex, non-linear relationships in the data and give deep networks their expressive power.\n"
      ],
      "metadata": {
        "id": "vQT_wnihDDu2"
      }
    },
    {
      "cell_type": "code",
      "source": [
        "# Loss and optimizer: necessary for training\n",
        "criterion = nn.CrossEntropyLoss()\n",
        "optimizer = optim.Adam(model.parameters(), lr=0.001)"
      ],
      "metadata": {
        "id": "Vtw8lcI6jAVE"
      },
      "execution_count": 20,
      "outputs": []
    },
    {
      "cell_type": "markdown",
      "source": [
        "#### Some details about cross entropy, softmax, one hot encoding and distributions"
      ],
      "metadata": {
        "id": "gulOWspDnA5s"
      }
    },
    {
      "cell_type": "markdown",
      "source": [
        "Since the problem is a *classification problem*, the criterion to compare model predictions with actual labels (what was denoted be $y$ and $\\hat{y}$ for regression) is typically `criterion = nn.CrossEntropyLoss()`. This function has two arguments:\n",
        "1. the output of the model (a list of scores returned by the model for each possible class, where the largest score corresponds to the most likely class) and\n",
        "2. the target, which is the actual label of example. For instance if there are 10 classes $0, 1, \\dots, 9$, the output would be a list like $[0.3,1.2,2.5,0.2,...]$ with 10 values, and the target could be 2 for instance.\n",
        "\n",
        "The `nn.CrossEntropyLoss()` function will internally process the scores an the target the following way.\n",
        "\n",
        "1. **Scores**. The unormalized model outputs $f_1, \\dots, f_k$ are called *scores*, *logits* or *raw* outputs. Each score $z_i=f_i({\\rm \\bf x};{\\rm \\bf w_i})$ is converted into a [0,1] value by the *softmax* function:\n",
        "$$p_i=\\frac{\\exp(z_i)}{\\sum_{j=1}^k \\exp(z_j)} ~~ {\\rm which~implies~that} ~~ 0<p_i \\le 1.$$\n",
        "After that transformation, the classification model's probabilistic output is a vector of values $(p_1,\\dots,p_k)$, with $p_i \\ge 0$ and $\\sum p_i=1$ as required for  probability distributions. The predicted label is the one with highest $p$.\n",
        "\n",
        "<img src=\"https://drive.google.com/uc?export=view&id=1iD519g8QbBmOGp9SiOQsIneJnWg53SMQ\" width=\"600\" >\n",
        "\n",
        "\n",
        "2. **Target**. A target value of, say, 2 is one-hot-encoded into the list $[0,0,1,0,...,0]$ of length 10.\n",
        "\n",
        "The **cross-entropy loss** measures the dissimilarity between the probability distribution returned by *softmax* $(p_1,p_2,\\dots)$ and the one hor encoded target distribution $(t_1,t_2,\\dots)$ for each example. Its value range from 0 (optimal value associated to minimum uncertainty) and 1 (maximum value associated to maximum uncertainty, i.e. all probabilities are equal):\n",
        "\n",
        "$$L_{single~example}=-\\left( t_1 \\, \\log(p_1) + t_2 \\, \\log(p_2) + \\dots \\right) \\in [0,1].$$\n",
        "\n",
        "In the expression above, we suppose that the probabilities $p_i$ are non zero which is guaranteed by th e*softmax* function.\n",
        "\n",
        "For a batch of $n$ examples, the cross-entropy loss is given by the average of the $n$ individual loss values, where $L_i$ is the cross entropy for the $i$th example:\n",
        "\n",
        "$$L_{batch}=\\frac{1}{n} \\left( L_1+L_2+ \\dots,L_n\\right).$$\n"
      ],
      "metadata": {
        "id": "09jFxhNRjKpN"
      }
    },
    {
      "cell_type": "markdown",
      "source": [
        "### Step 3: Model training"
      ],
      "metadata": {
        "id": "-l47-KLnxD-f"
      }
    },
    {
      "cell_type": "code",
      "source": [
        "# number of epochs\n",
        "num_epochs = 3"
      ],
      "metadata": {
        "id": "CHPLcpqU04Pb"
      },
      "execution_count": 21,
      "outputs": []
    },
    {
      "cell_type": "markdown",
      "source": [
        "#### Typical training loop"
      ],
      "metadata": {
        "id": "E_-stmiP3Ddf"
      }
    },
    {
      "cell_type": "code",
      "source": [
        "for epoch in range(num_epochs):\n",
        "    print(f'epoch: {epoch+1}; time: {round(time.time())}')\n",
        "    model.train()\n",
        "    for images, labels in train_loader:\n",
        "        outputs = model(images)\n",
        "        loss = criterion(outputs, labels)\n",
        "        optimizer.zero_grad()\n",
        "        loss.backward()\n",
        "        optimizer.step()\n"
      ],
      "metadata": {
        "colab": {
          "base_uri": "https://localhost:8080/"
        },
        "id": "d9w34AQPxDH3",
        "outputId": "67bdfd60-293f-45e8-c282-0f60059c5644"
      },
      "execution_count": 22,
      "outputs": [
        {
          "output_type": "stream",
          "name": "stdout",
          "text": [
            "epoch: 1; time: 1747415202\n",
            "epoch: 2; time: 1747415216\n",
            "epoch: 3; time: 1747415225\n"
          ]
        }
      ]
    },
    {
      "cell_type": "markdown",
      "source": [
        "#### Change device: run training on GPU"
      ],
      "metadata": {
        "id": "Vw-dljML3MN_"
      }
    },
    {
      "cell_type": "markdown",
      "source": [
        "Training involves many large matrix computations. In general, this is done faster if it is parellelized over multiple cores. One can determine which device, either `cuda` (for GPU) or `cpu`, is used for training. Both model and data must be moved to the right device."
      ],
      "metadata": {
        "id": "Rs9EvGm41Nt7"
      }
    },
    {
      "cell_type": "code",
      "source": [
        "device = torch.device(\"cuda\" if torch.cuda.is_available() else \"cpu\")\n",
        "print(f\"Using device: {device}\")\n",
        "\n",
        "# Criar e mover o modelo ANTES de criar o otimizador\n",
        "model = SimpleNN(input_size, hidden_size, num_classes)\n",
        "model.to(device)\n",
        "\n",
        "criterion = nn.CrossEntropyLoss()\n",
        "optimizer = optim.Adam(model.parameters(), lr=0.001)\n",
        "\n",
        "# Loop de treino\n",
        "for epoch in range(num_epochs):\n",
        "    print(f'epoch: {epoch+1}; time: {round(time.time())}')\n",
        "    model.train()\n",
        "    for images, labels in train_loader:\n",
        "        images = images.to(device)\n",
        "        labels = labels.to(device)\n",
        "        outputs = model(images)\n",
        "        loss = criterion(outputs, labels)\n",
        "        optimizer.zero_grad()\n",
        "        loss.backward()\n",
        "        optimizer.step()"
      ],
      "metadata": {
        "id": "ZxUKDQKbyomh",
        "colab": {
          "base_uri": "https://localhost:8080/"
        },
        "outputId": "a694b04c-8672-418d-d991-f46df3a7e7ab"
      },
      "execution_count": 25,
      "outputs": [
        {
          "output_type": "stream",
          "name": "stdout",
          "text": [
            "Using device: cuda\n",
            "epoch: 1; time: 1747415787\n",
            "epoch: 2; time: 1747415796\n",
            "epoch: 3; time: 1747415805\n"
          ]
        }
      ]
    },
    {
      "cell_type": "markdown",
      "source": [
        "**Question**. Which of the following parameters that were defined earlier about the data, model or training you expect will drive computation time down when using GPU? Why?\n",
        "- image size;\n",
        "- number of nodes in the hidden layer;\n",
        "- loss function;\n",
        "- optimizer;\n",
        "\n",
        "\n"
      ],
      "metadata": {
        "id": "jBA0U1D82FfN"
      }
    },
    {
      "cell_type": "markdown",
      "source": [
        "### Answers to the Questions\n",
        "\n",
        "1. **Image size**\n",
        "\n",
        "   Reducing image size will reduce computation time. Smaller images have fewer pixels, which leads to lower-dimensional input vectors. This decreases the number of operations required in the input and hidden layers, making both training and inference faster on CPU and GPU.\n",
        "\n",
        "2. **Number of nodes in the hidden layer**\n",
        "\n",
        "   Fewer nodes in the hidden layer will reduce computation time. Each node involves matrix multiplications and additions during the forward and backward passes. Reducing the number of nodes reduces the number of learnable parameters and the overall computational load.\n",
        "\n",
        "3. **Loss function**\n",
        "\n",
        "   The choice of loss function has little effect on computation time in this context. The `CrossEntropyLoss` function is highly optimised and efficiently implemented for GPU usage. While different loss functions may impact training dynamics or accuracy, they generally do not significantly influence raw computation time.\n",
        "\n",
        "4. **Optimizer**\n",
        "\n",
        "   The optimizer can have a moderate effect on computation time. For example, `Adam` maintains additional parameters (running averages of gradients and squared gradients), which slightly increases computational overhead compared to simpler optimizers like `SGD`. However, the impact is typically smaller than that of model size or input dimensionality.\n",
        "\n",
        "   **Conclusion:**  \n",
        "Reducing the **image size** and the **number of nodes in the hidden layer** will most significantly reduce computation time when using GPU. These parameters directly affect the size and complexity of the operations executed in the model, which is where GPUs provide acceleration.\n",
        "\n"
      ],
      "metadata": {
        "id": "EzRBwb-gHMuK"
      }
    },
    {
      "cell_type": "markdown",
      "source": [
        "### Step 4: Validation"
      ],
      "metadata": {
        "id": "V8DZljJx5Csm"
      }
    },
    {
      "cell_type": "markdown",
      "source": [
        "Validation is important for several goals, including:\n",
        "- to estimate the accuracy of the model for the task at hand;\n",
        "- to determine the optimal number of iterations (epochs);\n",
        "- to be able to tune the model choosing the best hyperparameters.\n",
        "\n",
        "Below, we will concentrate on the first two of those issues, and we will compare the estimated overall accuracy over the train and the test sets. In order to do this need to keep track of the intermediate results for each epoch and each batch of examples."
      ],
      "metadata": {
        "id": "mHGiUPJt5Gq-"
      }
    },
    {
      "cell_type": "code",
      "source": [
        "# Model Training\n",
        "num_epochs = 5\n",
        "\n",
        "# Computes the accuracy for a batch: outputs are probability-like values\n",
        "def compute_accuracy(outputs, labels):\n",
        "    _, predicted = torch.max(outputs.data, 1)\n",
        "    correct = (predicted == labels).sum().item()\n",
        "    total = len(labels)\n",
        "    return correct / total\n",
        "\n",
        "# History object to keep track of accuracy along epochs\n",
        "history = {'epoch': [], 'train_accuracy': [], 'val_accuracy': []}\n",
        "\n",
        "for epoch in range(num_epochs):\n",
        "    print(f'epoch: {epoch+1}; time: {round(time.time())}')\n",
        "    model.train()\n",
        "    batch_accuracies=[]\n",
        "    for images, labels in train_loader:\n",
        "        images = images.to(device)  #<<<<<<<<<< move data to device\n",
        "        labels = labels.to(device)  #<<<<<<<<<< move data to device\n",
        "        outputs = model(images)\n",
        "        loss = criterion(outputs, labels)\n",
        "        optimizer.zero_grad()\n",
        "        loss.backward()\n",
        "        optimizer.step()\n",
        "        # compute accuracy over the batch\n",
        "        batch_accuracies.append(compute_accuracy(outputs, labels))\n",
        "    history['epoch'].append(epoch)\n",
        "    history['train_accuracy'].append(sum(batch_accuracies) / len(batch_accuracies))\n",
        "\n",
        "    # Validation phase\n",
        "    print(f'epoch: {epoch+1}; time: {round(time.time())}')\n",
        "    model.eval()\n",
        "    batch_accuracies=[]\n",
        "    with torch.no_grad():\n",
        "        for images, labels in test_loader:\n",
        "            images = images.to(device)  #<<<<<<<<<< move data to device\n",
        "            labels = labels.to(device)  #<<<<<<<<<< move data to device\n",
        "            outputs = model(images)\n",
        "            # compute accuracy over the batch\n",
        "            batch_accuracies.append(compute_accuracy(outputs, labels))\n",
        "        history['val_accuracy'].append(sum(batch_accuracies) / len(batch_accuracies))"
      ],
      "metadata": {
        "id": "0m9K5d8a6e0d",
        "colab": {
          "base_uri": "https://localhost:8080/"
        },
        "outputId": "73f071f8-375d-4d6d-fe9e-dd091157db9b"
      },
      "execution_count": 26,
      "outputs": [
        {
          "output_type": "stream",
          "name": "stdout",
          "text": [
            "epoch: 1; time: 1747415857\n",
            "epoch: 1; time: 1747415866\n",
            "epoch: 2; time: 1747415868\n",
            "epoch: 2; time: 1747415877\n",
            "epoch: 3; time: 1747415878\n",
            "epoch: 3; time: 1747415888\n",
            "epoch: 4; time: 1747415889\n",
            "epoch: 4; time: 1747415898\n",
            "epoch: 5; time: 1747415900\n",
            "epoch: 5; time: 1747415909\n"
          ]
        }
      ]
    },
    {
      "cell_type": "code",
      "source": [
        "# accuracy plot\n",
        "plt.plot(history['epoch'], history['train_accuracy'], label='Train Accuracy')\n",
        "plt.plot(history['epoch'], history['val_accuracy'], label='Validation Accuracy')\n",
        "plt.xlabel('Epoch')\n",
        "plt.ylabel('Accuracy (%)')\n",
        "plt.title('Train and Validation Accuracy over Epochs')\n",
        "plt.legend()\n",
        "plt.grid(True)\n",
        "plt.show()"
      ],
      "metadata": {
        "colab": {
          "base_uri": "https://localhost:8080/",
          "height": 472
        },
        "id": "pNC9L7p976Xt",
        "outputId": "55a2aee6-ad5b-44fa-efa6-b69883262f1c"
      },
      "execution_count": 27,
      "outputs": [
        {
          "output_type": "display_data",
          "data": {
            "text/plain": [
              "<Figure size 640x480 with 1 Axes>"
            ],
            "image/png": "[encoded data removed]"
          },
          "metadata": {}
        }
      ]
    },
    {
      "cell_type": "markdown",
      "source": [
        "**Question**:\n",
        "- From the visualization of that plot, do you think that 5 epochs are enough, or should the model train longer than that?\n",
        "- Can you find a reason for the validation curve to be consistently higher than the training curve, which in principle should not happen\n",
        "\n"
      ],
      "metadata": {
        "id": "QL_XQFSSxdja"
      }
    },
    {
      "cell_type": "markdown",
      "source": [
        "### Answers to the Questions\n",
        "\n",
        "1. **From the visualization of that plot, do you think that 5 epochs are enough, or should the model train longer than that?**\n",
        "\n",
        "   The training accuracy is still increasing steadily over the 5 epochs, and it has not yet converged. This suggests that the model could still benefit from further training. However, the validation accuracy has already plateaued around epoch 4 and does not improve further after that. Therefore, while additional epochs might continue to improve training accuracy, they are unlikely to bring significant gains on the validation set. This indicates that 5 epochs may be close to optimal, and further training might lead to overfitting.\n",
        "\n",
        "2. **Can you find a reason for the validation curve to be consistently higher than the training curve, which in principle should not happen?**\n",
        "\n",
        "   Yes, although it is uncommon, this situation can occur. One likely reason is the presence of **dropout**, **data augmentation**, or **batch normalization** being active during training. These techniques are typically deactivated during evaluation (`model.eval()`), making the model more stable and deterministic at validation time, which can lead to higher accuracy.\n",
        "\n",
        "   Another possibility is that the **training set is more difficult than the test set**, due to class imbalance, noise, or specific examples. Also, the **training accuracy is computed over mini-batches**, while the validation accuracy is computed over the full set and might therefore be more stable.\n",
        "\n",
        "   Finally, if the **training set is shuffled**, the model sees a different ordering of examples every epoch, while the validation set remains fixed, which can lead to minor variations.\n"
      ],
      "metadata": {
        "id": "IRPJxtgNLwp4"
      }
    }
  ]
}
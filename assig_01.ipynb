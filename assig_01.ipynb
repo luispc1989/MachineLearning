{
  "cells": [
    {
      "cell_type": "markdown",
      "metadata": {
        "id": "view-in-github",
        "colab_type": "text"
      },
      "source": [
        "<a href=\"https://colab.research.google.com/github/luispc1989/MachineLearning/blob/main/assig_01.ipynb\" target=\"_parent\"><img src=\"https://colab.research.google.com/assets/colab-badge.svg\" alt=\"Open In Colab\"/></a>"
      ]
    },
    {
      "cell_type": "code",
      "execution_count": null,
      "metadata": {
        "id": "iIG8Y-ohdRe-"
      },
      "outputs": [],
      "source": [
        "# Import libraries\n",
        "import numpy as np\n",
        "import pandas as pd\n",
        "import torch\n",
        "import torch.nn as nn\n",
        "import torch.optim as optim\n",
        "import matplotlib.pyplot as plt\n",
        "from sklearn.preprocessing import StandardScaler\n",
        "!pip install ucimlrepo\n",
        "from ucimlrepo import fetch_ucirepo"
      ]
    },
    {
      "cell_type": "code",
      "execution_count": null,
      "metadata": {
        "id": "NaZri7g9dRfA"
      },
      "outputs": [],
      "source": [
        "# Load dataset using ucimlrepo\n",
        "wine_quality = fetch_ucirepo(id=186)\n",
        "X = wine_quality.data.features.values  # Input size\n",
        "y = wine_quality.data.targets.values.reshape(-1, 1)  # Output size"
      ]
    },
    {
      "cell_type": "code",
      "execution_count": null,
      "metadata": {
        "id": "HcmxLlqRdRfB"
      },
      "outputs": [],
      "source": [
        "# Normalize features\n",
        "scaler = StandardScaler()\n",
        "X = scaler.fit_transform(X)"
      ]
    },
    {
      "cell_type": "code",
      "execution_count": null,
      "metadata": {
        "id": "yH8HKMemdRfB"
      },
      "outputs": [],
      "source": [
        "# Convert to tensors\n",
        "X_tensor = torch.tensor(X, dtype=torch.float32)\n",
        "y_tensor = torch.tensor(y, dtype=torch.float32)"
      ]
    },
    {
      "cell_type": "code",
      "execution_count": null,
      "metadata": {
        "id": "-fvhP8GVdRfB"
      },
      "outputs": [],
      "source": [
        "# Define the model\n",
        "class WineQualityModel(nn.Module):\n",
        "    def __init__(self, input_size, output_size):\n",
        "        super(WineQualityModel, self).__init__()\n",
        "        self.linear = nn.Linear(input_size, output_size)  # Model\n",
        "\n",
        "    def forward(self, x):\n",
        "        return self.linear(x)  # Forward pass"
      ]
    },
    {
      "cell_type": "code",
      "execution_count": null,
      "metadata": {
        "id": "jheqPKyGdRfC"
      },
      "outputs": [],
      "source": [
        "# Instantiate model\n",
        "input_size = X.shape[1]\n",
        "output_size = 1\n",
        "model = WineQualityModel(input_size, output_size)"
      ]
    },
    {
      "cell_type": "code",
      "execution_count": null,
      "metadata": {
        "id": "gbtszmsCdRfC"
      },
      "outputs": [],
      "source": [
        "# Define loss function and optimizer\n",
        "loss_function = nn.MSELoss()  # Loss function\n",
        "optimizer = optim.SGD(model.parameters(), lr=0.01)  # Optimizer (gradient descent)"
      ]
    },
    {
      "cell_type": "code",
      "execution_count": null,
      "metadata": {
        "id": "Ifu28zzGdRfC"
      },
      "outputs": [],
      "source": [
        "# Training loop\n",
        "epochs = 100  # Epochs\n",
        "loss_values = []\n",
        "\n",
        "for epoch in range(epochs):\n",
        "    optimizer.zero_grad()  # Reset gradients\n",
        "    predictions = model(X_tensor)  # Forward pass\n",
        "    loss = loss_function(predictions, y_tensor)  # Compute loss\n",
        "    loss.backward()  # Backward pass\n",
        "    optimizer.step()  # Update weights (gradient descent)\n",
        "    loss_values.append(loss.item())\n",
        "\n",
        "    if (epoch + 1) % 10 == 0:\n",
        "        print(f\"Epoch {epoch+1}/{epochs}, Loss: {loss.item():.4f}\")"
      ]
    },
    {
      "cell_type": "code",
      "execution_count": null,
      "metadata": {
        "id": "NyRf52p6dRfD"
      },
      "outputs": [],
      "source": [
        "# Generate predictions for plotting\n",
        "with torch.no_grad():\n",
        "    y_pred = model(X_tensor).numpy()"
      ]
    },
    {
      "cell_type": "code",
      "execution_count": null,
      "metadata": {
        "id": "FgB6A2RpdRfD"
      },
      "outputs": [],
      "source": [
        "# Plot actual vs predicted values\n",
        "plt.figure(figsize=(10, 5))\n",
        "plt.scatter(y, y_pred, alpha=0.5)\n",
        "plt.xlabel(\"Actual Quality\")\n",
        "plt.ylabel(\"Predicted Quality\")\n",
        "plt.title(\"Actual vs Predicted Wine Quality\")\n",
        "plt.show()"
      ]
    },
    {
      "cell_type": "code",
      "execution_count": null,
      "metadata": {
        "id": "W-iKq9CYdRfD"
      },
      "outputs": [],
      "source": [
        "# Plot loss vs epochs\n",
        "plt.figure(figsize=(10, 5))\n",
        "plt.plot(range(epochs), loss_values)\n",
        "plt.xlabel(\"Epochs\")\n",
        "plt.ylabel(\"Loss\")\n",
        "plt.title(\"Loss vs Epochs\")\n",
        "plt.show()\n"
      ]
    }
  ],
  "metadata": {
    "kernelspec": {
      "display_name": "Python 3",
      "language": "python",
      "name": "python3"
    },
    "language_info": {
      "codemirror_mode": {
        "name": "ipython",
        "version": 3
      },
      "file_extension": ".py",
      "mimetype": "text/x-python",
      "name": "python",
      "nbconvert_exporter": "python",
      "pygments_lexer": "ipython3",
      "version": "3.12.6"
    },
    "colab": {
      "provenance": [],
      "include_colab_link": true
    }
  },
  "nbformat": 4,
  "nbformat_minor": 0
}
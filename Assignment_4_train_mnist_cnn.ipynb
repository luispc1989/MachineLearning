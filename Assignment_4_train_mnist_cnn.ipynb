{
  "nbformat": 4,
  "nbformat_minor": 0,
  "metadata": {
    "colab": {
      "provenance": [],
      "authorship_tag": "ABX9TyN0R8rxvzjqdJ/VCBZKqGIG",
      "include_colab_link": true
    },
    "kernelspec": {
      "name": "python3",
      "display_name": "Python 3"
    },
    "language_info": {
      "name": "python"
    }
  },
  "cells": [
    {
      "cell_type": "markdown",
      "metadata": {
        "id": "view-in-github",
        "colab_type": "text"
      },
      "source": [
        "<a href=\"https://colab.research.google.com/github/luispc1989/MachineLearning/blob/main/Assignment_4_train_mnist_cnn.ipynb\" target=\"_parent\"><img src=\"https://colab.research.google.com/assets/colab-badge.svg\" alt=\"Open In Colab\"/></a>"
      ]
    },
    {
      "cell_type": "code",
      "execution_count": 69,
      "metadata": {
        "id": "geagRidCOMie"
      },
      "outputs": [],
      "source": [
        "# Install and import libraries\n",
        "import torch\n",
        "import torch.nn as nn\n",
        "import torch.optim as optim\n",
        "from torchvision import datasets, transforms\n",
        "from torch.utils.data import DataLoader\n",
        "import matplotlib.pyplot as plt\n",
        "import time\n",
        "import random\n",
        "import numpy as np\n",
        "from torchsummary import summary"
      ]
    },
    {
      "cell_type": "code",
      "source": [
        "# Set random seed for reproducibility\n",
        "torch.manual_seed(42)\n",
        "np.random.seed(42)\n",
        "random.seed(42)"
      ],
      "metadata": {
        "id": "KPy4gvPJtaX7"
      },
      "execution_count": 70,
      "outputs": []
    },
    {
      "cell_type": "code",
      "source": [
        "# Check device\n",
        "device = torch.device(\"cuda\" if torch.cuda.is_available() else \"cpu\")\n",
        "print(f\"Using device: {device}\")"
      ],
      "metadata": {
        "colab": {
          "base_uri": "https://localhost:8080/"
        },
        "id": "LhdvsR1qOm33",
        "outputId": "1a1f52df-d4fe-4901-bbe1-47507cdb5cc1"
      },
      "execution_count": 71,
      "outputs": [
        {
          "output_type": "stream",
          "name": "stdout",
          "text": [
            "Using device: cpu\n"
          ]
        }
      ]
    },
    {
      "cell_type": "code",
      "source": [
        "# Data preprocessing\n",
        "transform = transforms.Compose([\n",
        "    transforms.Resize((8, 8)),\n",
        "    transforms.ToTensor(),\n",
        "])\n",
        "\n",
        "# Load MNIST dataset\n",
        "train_dataset = datasets.MNIST(root='./data', train=True, download=True, transform=transform)\n",
        "test_dataset = datasets.MNIST(root='./data', train=False, download=True, transform=transform)\n",
        "train_loader = DataLoader(train_dataset, batch_size=64, shuffle=True)\n",
        "test_loader = DataLoader(test_dataset, batch_size=64, shuffle=False)"
      ],
      "metadata": {
        "id": "xpkLWsQlPNbS"
      },
      "execution_count": 72,
      "outputs": []
    },
    {
      "cell_type": "code",
      "source": [
        "# Define convolutional block with batch normalization\n",
        "def conv(ic, oc, act=True):\n",
        "    ks = 3\n",
        "    layers = [\n",
        "        nn.Conv2d(ic, oc, stride=2, kernel_size=ks, padding=ks//2),\n",
        "        nn.BatchNorm2d(oc)\n",
        "    ]\n",
        "    if act:\n",
        "        layers.append(nn.ReLU())\n",
        "    return nn.Sequential(*layers)\n",
        "\n",
        "# Build the CNN model\n",
        "simple_cnn = nn.Sequential(\n",
        "    conv(1, 8),\n",
        "    nn.Dropout2d(p=0.25),\n",
        "    conv(8, 16),\n",
        "    nn.Dropout2d(p=0.25),\n",
        "    conv(16, 10, act=False),\n",
        "    nn.Flatten()\n",
        ")"
      ],
      "metadata": {
        "id": "fOcGhULto0TN"
      },
      "execution_count": 73,
      "outputs": []
    },
    {
      "cell_type": "code",
      "source": [
        "# Example usage with a dummy input\n",
        "xb = torch.randn(64, 1, 8, 8)\n",
        "output = simple_cnn(xb)\n",
        "print(output.shape)  # torch.Size([64, 10])\n",
        "\n",
        "# Print model summary\n",
        "simple_cnn.to(device)\n",
        "summary(simple_cnn, input_size=(1, 8, 8), device=str(device))"
      ],
      "metadata": {
        "colab": {
          "base_uri": "https://localhost:8080/"
        },
        "id": "aXzHmeHbzYuL",
        "outputId": "5d584b25-b521-40e3-d7c6-ba35fd4456b3"
      },
      "execution_count": 74,
      "outputs": [
        {
          "output_type": "stream",
          "name": "stdout",
          "text": [
            "torch.Size([64, 10])\n",
            "----------------------------------------------------------------\n",
            "        Layer (type)               Output Shape         Param #\n",
            "================================================================\n",
            "            Conv2d-1              [-1, 8, 4, 4]              80\n",
            "       BatchNorm2d-2              [-1, 8, 4, 4]              16\n",
            "              ReLU-3              [-1, 8, 4, 4]               0\n",
            "         Dropout2d-4              [-1, 8, 4, 4]               0\n",
            "            Conv2d-5             [-1, 16, 2, 2]           1,168\n",
            "       BatchNorm2d-6             [-1, 16, 2, 2]              32\n",
            "              ReLU-7             [-1, 16, 2, 2]               0\n",
            "         Dropout2d-8             [-1, 16, 2, 2]               0\n",
            "            Conv2d-9             [-1, 10, 1, 1]           1,450\n",
            "      BatchNorm2d-10             [-1, 10, 1, 1]              20\n",
            "          Flatten-11                   [-1, 10]               0\n",
            "================================================================\n",
            "Total params: 2,766\n",
            "Trainable params: 2,766\n",
            "Non-trainable params: 0\n",
            "----------------------------------------------------------------\n",
            "Input size (MB): 0.00\n",
            "Forward/backward pass size (MB): 0.01\n",
            "Params size (MB): 0.01\n",
            "Estimated Total Size (MB): 0.02\n",
            "----------------------------------------------------------------\n"
          ]
        }
      ]
    },
    {
      "cell_type": "code",
      "source": [
        "# Function to compute accuracy\n",
        "def compute_accuracy(outputs, labels):\n",
        "    _, predicted = torch.max(outputs.data, 1)\n",
        "    correct = (predicted == labels).sum().item()\n",
        "    return correct / len(labels)"
      ],
      "metadata": {
        "id": "WMju0xjuzbWf"
      },
      "execution_count": 75,
      "outputs": []
    },
    {
      "cell_type": "code",
      "source": [
        "# Training loop with validation and saving weights\n",
        "num_epochs = 6\n",
        "criterion = nn.CrossEntropyLoss()\n",
        "optimizer = optim.Adam(simple_cnn.parameters(), lr=0.001)\n",
        "history = {'epoch': [], 'train_accuracy': [], 'val_accuracy': []}\n",
        "\n",
        "for epoch in range(num_epochs):\n",
        "    print(f\"Epoch {epoch+1}/{num_epochs}; Time: {round(time.time())}\")\n",
        "    simple_cnn.train()\n",
        "    train_accs = []\n",
        "    for images, labels in train_loader:\n",
        "        images, labels = images.to(device), labels.to(device)\n",
        "        optimizer.zero_grad()\n",
        "        outputs = simple_cnn(images)\n",
        "        loss = criterion(outputs, labels)\n",
        "        loss.backward()\n",
        "        optimizer.step()\n",
        "        train_accs.append(compute_accuracy(outputs, labels))\n",
        "\n",
        "    avg_train_acc = sum(train_accs) / len(train_accs)\n",
        "    history['epoch'].append(epoch + 1)\n",
        "    history['train_accuracy'].append(avg_train_acc)\n",
        "    print(f\"Train Accuracy: {avg_train_acc:.4f}\")\n",
        "\n",
        "    # Validation\n",
        "    simple_cnn.eval()\n",
        "    val_accs = []\n",
        "    with torch.no_grad():\n",
        "        for images, labels in test_loader:\n",
        "            images, labels = images.to(device), labels.to(device)\n",
        "            outputs = simple_cnn(images)\n",
        "            val_accs.append(compute_accuracy(outputs, labels))\n",
        "    avg_val_acc = sum(val_accs) / len(val_accs)\n",
        "    history['val_accuracy'].append(avg_val_acc)\n",
        "    print(f\"Validation Accuracy: {avg_val_acc:.4f}\")\n",
        "\n",
        "    # Save weights for each epoch\n",
        "    torch.save(simple_cnn.state_dict(), f\"cnn_epoch_{epoch+1}.pth\")"
      ],
      "metadata": {
        "colab": {
          "base_uri": "https://localhost:8080/"
        },
        "id": "g-3mi-cdzdZf",
        "outputId": "2c17c518-64d1-491a-f95d-c218cb8a49ae"
      },
      "execution_count": 76,
      "outputs": [
        {
          "output_type": "stream",
          "name": "stdout",
          "text": [
            "Epoch 1/6; Time: 1749575376\n",
            "Train Accuracy: 0.7133\n",
            "Validation Accuracy: 0.9029\n",
            "Epoch 2/6; Time: 1749575410\n",
            "Train Accuracy: 0.8272\n",
            "Validation Accuracy: 0.9255\n",
            "Epoch 3/6; Time: 1749575439\n",
            "Train Accuracy: 0.8460\n",
            "Validation Accuracy: 0.9286\n",
            "Epoch 4/6; Time: 1749575467\n",
            "Train Accuracy: 0.8557\n",
            "Validation Accuracy: 0.9365\n",
            "Epoch 5/6; Time: 1749575495\n",
            "Train Accuracy: 0.8630\n",
            "Validation Accuracy: 0.9382\n",
            "Epoch 6/6; Time: 1749575523\n",
            "Train Accuracy: 0.8658\n",
            "Validation Accuracy: 0.9400\n"
          ]
        }
      ]
    },
    {
      "cell_type": "code",
      "source": [
        "# Final model save for deployment\n",
        "final_model_path = \"mnist_cnn_final.pth\"\n",
        "torch.save(simple_cnn.state_dict(), final_model_path)\n",
        "print(f\"Final model saved to: {final_model_path}\")"
      ],
      "metadata": {
        "colab": {
          "base_uri": "https://localhost:8080/"
        },
        "id": "riKX4tfk0FEF",
        "outputId": "81bb4ac1-d786-4d4d-b6b6-e193d8596c5e"
      },
      "execution_count": 77,
      "outputs": [
        {
          "output_type": "stream",
          "name": "stdout",
          "text": [
            "Final model saved to: mnist_cnn_final.pth\n"
          ]
        }
      ]
    },
    {
      "cell_type": "code",
      "source": [
        "# Plot training and validation accuracy\n",
        "plt.plot(history['epoch'], history['train_accuracy'], label='Train Accuracy', marker='o')\n",
        "plt.plot(history['epoch'], history['val_accuracy'], label='Validation Accuracy', marker='x')\n",
        "plt.xlabel('Epoch')\n",
        "plt.ylabel('Accuracy')\n",
        "plt.title('Training vs Validation Accuracy')\n",
        "plt.legend()\n",
        "plt.grid(True)\n",
        "plt.show()\n"
      ],
      "metadata": {
        "colab": {
          "base_uri": "https://localhost:8080/",
          "height": 472
        },
        "id": "hqWiV1WA0F3m",
        "outputId": "2add2ad9-1ec3-4f07-d200-f993c907ad45"
      },
      "execution_count": 78,
      "outputs": [
        {
          "output_type": "display_data",
          "data": {
            "text/plain": [
              "<Figure size 640x480 with 1 Axes>"
            ],
            "image/png": "[encoded data removed]"
          },
          "metadata": {}
        }
      ]
    }
  ]
}